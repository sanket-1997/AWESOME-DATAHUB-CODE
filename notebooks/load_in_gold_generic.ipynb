{
 "cells": [
  {
   "cell_type": "code",
   "execution_count": 0,
   "metadata": {
    "application/vnd.databricks.v1+cell": {
     "cellMetadata": {
      "byteLimit": 2048000,
      "rowLimit": 10000
     },
     "inputWidgets": {},
     "nuid": "779498ee-8a7d-46ce-ac1d-a02aa937b07e",
     "showTitle": false,
     "tableResultSettingsMap": {},
     "title": ""
    }
   },
   "outputs": [],
   "source": [
    "from pyspark.sql import functions as F\n",
    "from pyspark.sql.types import *\n",
    "from libs import schema_handler as sh\n",
    "from libs import datafunctions as spdf\n",
    "from libs import utils as ut\n",
    "from libs import azureauth as az\n",
    "from delta.tables import *\n",
    "from datetime import date, datetime"
   ]
  },
  {
   "cell_type": "code",
   "execution_count": 0,
   "metadata": {
    "application/vnd.databricks.v1+cell": {
     "cellMetadata": {
      "byteLimit": 2048000,
      "rowLimit": 10000
     },
     "inputWidgets": {},
     "nuid": "f574686c-6a9e-4ccb-80f8-f6c42ee19da2",
     "showTitle": false,
     "tableResultSettingsMap": {},
     "title": ""
    }
   },
   "outputs": [],
   "source": [
    "silver_table = dbutils.widgets.get('silver_table')\n",
    "gold_table = dbutils.widgets.get('gold_table')\n",
    "source = dbutils.widgets.get('source')\n",
    "watermark = dbutils.widgets.get('watermark')"
   ]
  },
  {
   "cell_type": "code",
   "execution_count": 0,
   "metadata": {
    "application/vnd.databricks.v1+cell": {
     "cellMetadata": {
      "byteLimit": 2048000,
      "rowLimit": 10000
     },
     "inputWidgets": {},
     "nuid": "08b0364f-78a9-4b80-9490-6faf99058134",
     "showTitle": false,
     "tableResultSettingsMap": {},
     "title": ""
    }
   },
   "outputs": [],
   "source": [
    "env = az.get_env(spark)\n",
    "#watermark_timestamp = \"DH_\"+silver_table.split('_')[1].upper()+\"_\"+ut.format_timestamp(watermark)\n",
    "field_schema, primary_keys, table_type, dependencies = sh.read_schema(env = env, layer= \"gold\", source= source, entity=gold_table)\n",
    "surrogate_keys = sh.extract_surrogate_keys(field_schema)\n",
    "merge_condition = spdf.generate_merge_condition(surrogate_keys=surrogate_keys)\n",
    "print(table_type)\n",
    "print(merge_condition)\n",
    "print(field_schema)\n"
   ]
  },
  {
   "cell_type": "code",
   "execution_count": 0,
   "metadata": {
    "application/vnd.databricks.v1+cell": {
     "cellMetadata": {
      "byteLimit": 2048000,
      "rowLimit": 10000
     },
     "inputWidgets": {},
     "nuid": "a943ae23-558a-4c86-8111-f9cdcb961a5e",
     "showTitle": false,
     "tableResultSettingsMap": {},
     "title": ""
    }
   },
   "outputs": [],
   "source": [
    "dfSilver = spark.read.table(f\"datahub_{env}_silver.{source}.{silver_table}\").filter(F.col(\"dbx_extract_timestamp\") > watermark)\n",
    "display(dfSilver)"
   ]
  },
  {
   "cell_type": "code",
   "execution_count": 0,
   "metadata": {
    "application/vnd.databricks.v1+cell": {
     "cellMetadata": {
      "byteLimit": 2048000,
      "rowLimit": 10000
     },
     "inputWidgets": {},
     "nuid": "fc5fccfc-e9f5-4860-ace4-3fcfa97fee41",
     "showTitle": false,
     "tableResultSettingsMap": {
      "0": {
       "dataGridStateBlob": "{\"version\":1,\"tableState\":{\"columnPinning\":{\"left\":[\"#row_number#\"],\"right\":[]},\"columnSizing\":{},\"columnVisibility\":{}},\"settings\":{\"columns\":{}},\"syncTimestamp\":1756578427902}",
       "filterBlob": null,
       "queryPlanFiltersBlob": null,
       "tableResultIndex": 0
      },
      "1": {
       "dataGridStateBlob": "{\"version\":1,\"tableState\":{\"columnPinning\":{\"left\":[\"#row_number#\"],\"right\":[]},\"columnSizing\":{},\"columnVisibility\":{}},\"settings\":{\"columns\":{}},\"syncTimestamp\":1756610764104}",
       "filterBlob": null,
       "queryPlanFiltersBlob": null,
       "tableResultIndex": 1
      }
     },
     "title": ""
    }
   },
   "outputs": [],
   "source": [
    "#In case we have dim tables then we need to add the surrogate key\n",
    "if table_type ==\"SCD2\":\n",
    "    #In case gold table doesn't exist which means it is the first time run in this case just assign the surrogate keys\n",
    "    if not sh.uc_table_exists(spark, catalog= f\"datahub_{env}_gold\", schema = source, table = gold_table):\n",
    "        dfSilver = spdf.assign_surrogate_key(spark, dfSilver, f\"datahub_{env}_gold\", source, silver_table, surrogate_keys[0])\n",
    "        display(dfSilver)\n",
    "    else:\n",
    "        #table exists then now we need to find existing and the new records. For this apply the left join. And then we will be splitting the table in two halves.\n",
    "        #This thing we are doing in order to assign new surrogate keys to the new records. and old records will be getting old surrogate keys only.\n",
    "\n",
    "\n",
    "        #here also the challenge is that we need to update only create only those old records which are having different values as compared to the gold table. \n",
    "\n",
    "\n",
    "        dfGold = spark.read.table(f\"datahub_{env}_gold.{source}.{gold_table}\") \n",
    "        dfCombined = dfSilver.join(dfGold, spdf.generate_join_condition(dfSilver, dfGold, primary_keys), how = \"left\")\n",
    "        \n",
    "        #display(dfCombined)\n",
    "\n",
    "        display(dfGold)\n",
    "\n",
    "        dfSilver_old = dfCombined.filter(F.col(surrogate_keys[0]).isNotNull())\\\n",
    "                        .select(dfSilver[\"*\"], dfGold[surrogate_keys[0]])\n",
    "\n",
    "\n",
    "\n",
    "        #now we need to find what are the records what we need to update from the old records. \n",
    "        dfSilver_old_modified = sh.get_changed_new_records(dfGold, dfSilver_old, surrogate_keys[0], [\"name\", \"email\", \"address\", \"loyalty_points\", \"extract_timestamp\", \"dbx_extract_timestamp\", \"effective_start_date\", \"effective_end_date\"])\n",
    "\n",
    "        display(dfSilver_old_modified)\n",
    "\n",
    "  \n",
    "\n",
    "\n",
    "        #now the thig is we need to mark only these records as inactive in the scd2\n",
    "        #we will make union and add them to the silver then we will assign new surrogate keys to these old records and add to the union.\n",
    "\n",
    "\n",
    "\n",
    "        dfSilver_new = dfCombined.filter(F.col(surrogate_keys[0]).isNull())\\\n",
    "                        .select(dfSilver[\"*\"])\n",
    "\n",
    "        #display(dfSilver_old)\n",
    "        dfSilver_new = spdf.assign_surrogate_key(spark, dfSilver_new, f\"datahub_{env}_gold\", source, silver_table, surrogate_keys[0])\n",
    "        display(dfSilver_new)\n",
    "\n",
    "        dfSilver = dfSilver_old_modified.union(dfSilver_new)\n",
    "        display(dfSilver)\n",
    "\n",
    "        \n",
    "\n",
    "        \n",
    "\n",
    "\n",
    "    "
   ]
  },
  {
   "cell_type": "code",
   "execution_count": 0,
   "metadata": {
    "application/vnd.databricks.v1+cell": {
     "cellMetadata": {
      "byteLimit": 2048000,
      "rowLimit": 10000
     },
     "inputWidgets": {},
     "nuid": "2003d072-a612-48f1-a065-2fe86097eb7d",
     "showTitle": false,
     "tableResultSettingsMap": {},
     "title": ""
    }
   },
   "outputs": [],
   "source": [
    "#delta_table = DeltaTable.forName(spark, f\"datahub_{env}_silver.{source}.{silver_table}\")\n",
    "\n",
    "print(datetime.strptime('9999-12-30', '%Y-%m-%d').date() - date.today())\n",
    "\n"
   ]
  },
  {
   "cell_type": "code",
   "execution_count": 0,
   "metadata": {
    "application/vnd.databricks.v1+cell": {
     "cellMetadata": {
      "byteLimit": 2048000,
      "rowLimit": 10000
     },
     "inputWidgets": {},
     "nuid": "42396f1d-a392-482c-8be0-70a48fc60c48",
     "showTitle": false,
     "tableResultSettingsMap": {},
     "title": ""
    }
   },
   "outputs": [],
   "source": [
    "gold_path = f\"abfss://gold@storageawesum.dfs.core.windows.net/data/{source}/{gold_table}\"\n",
    "\n",
    "\n",
    "if not sh.uc_table_exists(spark, catalog= f\"datahub_{env}_gold\", schema = source, table = gold_table):\n",
    "\n",
    "#this is for the first time run. In this case there is not table and hence are not focussed on schema evolution\n",
    "\n",
    "    if table_type == \"SCD1\":\n",
    "        pass\n",
    "    elif table_type ==\"SCD2\":\n",
    "        effective_start_date = date.today()\n",
    "        effective_end_date = '9999-12-31'\n",
    "        dfSilver = dfSilver.withColumn(\"effective_start_date\", F.lit(effective_start_date))\n",
    "        dfSilver = dfSilver.withColumn(\"effective_end_date\", F.to_date(F.lit(effective_end_date)))\n",
    "        display(dfSilver)\n",
    "        dfSilver.write.mode(\"overwrite\").format(\"delta\").partitionBy('extract_timestamp').save(gold_path)\n",
    "    elif table_type ==\"FACT\":\n",
    "        pass\n",
    "    else:\n",
    "        pass\n",
    "\n",
    "    \n",
    "    spark.sql(f\"\"\"\n",
    "    CREATE SCHEMA IF NOT EXISTS datahub_{env}_gold.{source}\n",
    "    \"\"\")\n",
    "\n",
    "    spark.sql(f\"\"\"\n",
    "        CREATE TABLE IF NOT EXISTS datahub_{env}_gold.{source}.{gold_table}\n",
    "        USING delta\n",
    "        LOCATION '{gold_path}'\n",
    "    \"\"\")\n",
    " \n",
    "\n",
    "else:\n",
    "    #handle schema evolution in another runs first\n",
    "    schema_evolved = sh.handle_schema_evolution(\n",
    "        spark = spark,\n",
    "        source_df = dfSilver.limit(0),\n",
    "        target_path=gold_path,\n",
    "        contract_attributes = sh.extract_attributes(field_schema),\n",
    "        mode = \"append\"\n",
    "    )\n",
    "    # in case we get green signal like schema can be evolved then we will handle the merge logic\n",
    "    if schema_evolved:\n",
    "        if table_type == \"SCD1\":\n",
    "            pass\n",
    "        elif table_type ==\"SCD2\":\n",
    "            merge_happened = spdf.scd2_merge(\n",
    "                spark,\n",
    "                dfSilver,\n",
    "                f\"datahub_{env}_gold.{source}.{gold_table}\",\n",
    "                surrogate_keys\n",
    "            )\n",
    "            if merge_happened:\n",
    "                print(\"SCD2 Performed\")\n",
    "            else:\n",
    "                print(\"SCD2 Not Performed\")\n",
    "\n",
    "        elif table_type ==\"FACT\":\n",
    "            pass\n",
    "        else:\n",
    "            pass\n",
    "\n",
    "    \n",
    "\n",
    " \n"
   ]
  },
  {
   "cell_type": "code",
   "execution_count": 0,
   "metadata": {
    "application/vnd.databricks.v1+cell": {
     "cellMetadata": {
      "byteLimit": 2048000,
      "rowLimit": 10000
     },
     "inputWidgets": {},
     "nuid": "51188aec-3460-473a-99c0-072a50c7969d",
     "showTitle": false,
     "tableResultSettingsMap": {},
     "title": ""
    }
   },
   "outputs": [],
   "source": []
  }
 ],
 "metadata": {
  "application/vnd.databricks.v1+notebook": {
   "computePreferences": null,
   "dashboards": [],
   "environmentMetadata": {
    "base_environment": "",
    "environment_version": "3"
   },
   "inputWidgetPreferences": null,
   "language": "python",
   "notebookMetadata": {
    "pythonIndentUnit": 4
   },
   "notebookName": "load_in_gold_generic",
   "widgets": {
    "gold_table": {
     "currentValue": "dim_customers",
     "nuid": "0d27c322-5b68-4222-8156-ffed53c90a3d",
     "typedWidgetInfo": {
      "autoCreated": false,
      "defaultValue": "",
      "label": "",
      "name": "gold_table",
      "options": {
       "widgetDisplayType": "Text",
       "validationRegex": null
      },
      "parameterDataType": "String"
     },
     "widgetInfo": {
      "widgetType": "text",
      "defaultValue": "",
      "label": "",
      "name": "gold_table",
      "options": {
       "widgetType": "text",
       "autoCreated": false,
       "validationRegex": null
      }
     }
    },
    "silver_table": {
     "currentValue": "dim_customers",
     "nuid": "215b29c0-8b68-4bed-b43f-c7e7843e3695",
     "typedWidgetInfo": {
      "autoCreated": false,
      "defaultValue": "",
      "label": "",
      "name": "silver_table",
      "options": {
       "widgetDisplayType": "Text",
       "validationRegex": null
      },
      "parameterDataType": "String"
     },
     "widgetInfo": {
      "widgetType": "text",
      "defaultValue": "",
      "label": "",
      "name": "silver_table",
      "options": {
       "widgetType": "text",
       "autoCreated": false,
       "validationRegex": null
      }
     }
    },
    "source": {
     "currentValue": "consumer",
     "nuid": "8115df1c-5057-49ec-b676-e9b60926e61f",
     "typedWidgetInfo": {
      "autoCreated": false,
      "defaultValue": "",
      "label": "",
      "name": "source",
      "options": {
       "widgetDisplayType": "Text",
       "validationRegex": null
      },
      "parameterDataType": "String"
     },
     "widgetInfo": {
      "widgetType": "text",
      "defaultValue": "",
      "label": "",
      "name": "source",
      "options": {
       "widgetType": "text",
       "autoCreated": false,
       "validationRegex": null
      }
     }
    },
    "watermark": {
     "currentValue": "2025-08-24T08:14:27.340",
     "nuid": "513a6a3a-5a32-4543-a902-3eeb88f299ae",
     "typedWidgetInfo": {
      "autoCreated": false,
      "defaultValue": "",
      "label": "",
      "name": "watermark",
      "options": {
       "widgetDisplayType": "Text",
       "validationRegex": null
      },
      "parameterDataType": "String"
     },
     "widgetInfo": {
      "widgetType": "text",
      "defaultValue": "",
      "label": "",
      "name": "watermark",
      "options": {
       "widgetType": "text",
       "autoCreated": false,
       "validationRegex": null
      }
     }
    }
   }
  },
  "language_info": {
   "name": "python"
  }
 },
 "nbformat": 4,
 "nbformat_minor": 0
}
