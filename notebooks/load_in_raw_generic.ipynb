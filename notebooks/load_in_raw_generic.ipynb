{
 "cells": [
  {
   "cell_type": "code",
   "execution_count": 0,
   "metadata": {
    "application/vnd.databricks.v1+cell": {
     "cellMetadata": {
      "byteLimit": 2048000,
      "rowLimit": 10000
     },
     "inputWidgets": {},
     "nuid": "1512a1dd-2866-42e0-973a-0e3685b715ba",
     "showTitle": false,
     "tableResultSettingsMap": {},
     "title": ""
    }
   },
   "outputs": [],
   "source": [
    "from pyspark.sql import functions as F"
   ]
  },
  {
   "cell_type": "code",
   "execution_count": 0,
   "metadata": {
    "application/vnd.databricks.v1+cell": {
     "cellMetadata": {
      "byteLimit": 2048000,
      "rowLimit": 10000
     },
     "inputWidgets": {},
     "nuid": "904c5d8a-5980-442e-bed9-956a483a6f02",
     "showTitle": false,
     "tableResultSettingsMap": {},
     "title": ""
    }
   },
   "outputs": [],
   "source": [
    "source = dbutils.widgets.get(\"source\")\n",
    "table = dbutils.widgets.get(\"table\")"
   ]
  },
  {
   "cell_type": "code",
   "execution_count": 0,
   "metadata": {
    "application/vnd.databricks.v1+cell": {
     "cellMetadata": {
      "byteLimit": 2048000,
      "rowLimit": 10000
     },
     "inputWidgets": {},
     "nuid": "43a4e863-f2eb-4e2c-b100-7961228ad589",
     "showTitle": false,
     "tableResultSettingsMap": {},
     "title": ""
    }
   },
   "outputs": [],
   "source": [
    "df = spark.readStream.format(\"cloudFiles\")\\\n",
    "            .option(\"cloudFiles.format\", \"csv\")\\\n",
    "            .option(\"cloudFiles.schemaLocation\", f\"abfss://bronze@storageawesum.dfs.core.windows.net/{source}/{table}/_schema\")\\\n",
    "            .option(\"cloudFiles.schemaEvolutionMode\", \"addNewColumns\")\\\n",
    "            .load(f\"abfss://raw@storageawesum.dfs.core.windows.net/staging/{source}/{table}/*/\")\n",
    "\n",
    "# Extract the full file path (input_file_name gives complete abfss path)\n",
    "df = df.withColumn(\"file_path\", F.input_file_name())\\\n",
    "    .withColumn(\"extract_timestamp\", F.concat(F.lit(\"DH_\"+table.upper()+\"_\"), F.regexp_extract(\"file_path\", fr\"{table}_(\\d{{8}}_\\d{{6}})\", 1)))\\\n",
    "    .withColumn(\"dbx_extract_timestamp\", F.current_timestamp())\\\n",
    "    .drop(F.col(\"file_path\")).drop(F.col(\"_rescued_data\"))\n",
    "\n",
    "\n",
    "df.writeStream\\\n",
    "    .format(\"delta\")\\\n",
    "    .option(\"checkpointLocation\", f\"abfss://bronze@storageawesum.dfs.core.windows.net/{source}/{table}/_checkpoint\")\\\n",
    "    .partitionBy(\"extract_timestamp\")\\\n",
    "    .option(\"mergeSchema\", \"true\")\\\n",
    "    .trigger(availableNow=True)\\\n",
    "    .start(f\"abfss://bronze@storageawesum.dfs.core.windows.net/{source}/{table}/\")"
   ]
  }
 ],
 "metadata": {
  "application/vnd.databricks.v1+notebook": {
   "computePreferences": null,
   "dashboards": [],
   "environmentMetadata": {
    "base_environment": "",
    "environment_version": "3"
   },
   "inputWidgetPreferences": null,
   "language": "python",
   "notebookMetadata": {
    "pythonIndentUnit": 4
   },
   "notebookName": "load_in_raw_generic",
   "widgets": {
    "source": {
     "currentValue": "consumer",
     "nuid": "504e1c0c-ab7c-4d2a-ba67-29536825cf56",
     "typedWidgetInfo": {
      "autoCreated": false,
      "defaultValue": "",
      "label": "",
      "name": "source",
      "options": {
       "widgetDisplayType": "Text",
       "validationRegex": null
      },
      "parameterDataType": "String"
     },
     "widgetInfo": {
      "widgetType": "text",
      "defaultValue": "",
      "label": "",
      "name": "source",
      "options": {
       "widgetType": "text",
       "autoCreated": false,
       "validationRegex": null
      }
     }
    },
    "table": {
     "currentValue": "customers",
     "nuid": "b959070f-8bd8-48c8-9595-a87f4e32c957",
     "typedWidgetInfo": {
      "autoCreated": false,
      "defaultValue": "",
      "label": "",
      "name": "table",
      "options": {
       "widgetDisplayType": "Text",
       "validationRegex": null
      },
      "parameterDataType": "String"
     },
     "widgetInfo": {
      "widgetType": "text",
      "defaultValue": "",
      "label": "",
      "name": "table",
      "options": {
       "widgetType": "text",
       "autoCreated": false,
       "validationRegex": null
      }
     }
    }
   }
  },
  "language_info": {
   "name": "python"
  }
 },
 "nbformat": 4,
 "nbformat_minor": 0
}
