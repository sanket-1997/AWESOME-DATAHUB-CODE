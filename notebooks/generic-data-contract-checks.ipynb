{
 "cells": [
  {
   "cell_type": "code",
   "execution_count": 0,
   "metadata": {
    "application/vnd.databricks.v1+cell": {
     "cellMetadata": {
      "byteLimit": 2048000,
      "rowLimit": 10000
     },
     "inputWidgets": {},
     "nuid": "0c426c61-d539-4b13-a3c0-4e36e78949aa",
     "showTitle": false,
     "tableResultSettingsMap": {},
     "title": ""
    }
   },
   "outputs": [],
   "source": [
    "#dbuitls.widgets.text(\"layer\", \"cleansed\") #required\n",
    "#dbuitls.widgets.text(\"table_name\", \"account\") #required\n",
    "#dbuitls.widgets.text(\"local_checks\", \"True\") #required\n",
    "#dbuitls.widgets.text(\"log\", \"False\") #required\n",
    "\n",
    "#TODO: Currently assuming use for only BDH, but can implement changes to accept following parameter"
   ]
  },
  {
   "cell_type": "code",
   "execution_count": 0,
   "metadata": {
    "application/vnd.databricks.v1+cell": {
     "cellMetadata": {
      "byteLimit": 2048000,
      "rowLimit": 10000
     },
     "inputWidgets": {},
     "nuid": "c3868b51-9997-4874-a4c5-cd054bac90d2",
     "showTitle": false,
     "tableResultSettingsMap": {},
     "title": ""
    }
   },
   "outputs": [],
   "source": [
    "%sh\n",
    "pip install datacontract-cli[databricks]==0.10.24\n",
    "pip install -i https://pypi.cloud.soda.io soda-spark[databricks]"
   ]
  },
  {
   "cell_type": "code",
   "execution_count": 0,
   "metadata": {
    "application/vnd.databricks.v1+cell": {
     "cellMetadata": {
      "byteLimit": 2048000,
      "rowLimit": 10000
     },
     "inputWidgets": {},
     "nuid": "2f370d6f-c534-4c59-a10e-46f85de47383",
     "showTitle": false,
     "tableResultSettingsMap": {},
     "title": ""
    }
   },
   "outputs": [],
   "source": [
    "!datacontract lint /Workspace/Users/sanketsrivastava090197@outlook.com/AWESOME-DATAHUB-CODE/schema/datacontracts/gold/consumer/datahub_dev_gold-consumer-dim_customers.yaml"
   ]
  },
  {
   "cell_type": "code",
   "execution_count": 0,
   "metadata": {
    "application/vnd.databricks.v1+cell": {
     "cellMetadata": {
      "byteLimit": 2048000,
      "rowLimit": 10000
     },
     "inputWidgets": {},
     "nuid": "09efbcaf-246d-48e0-b066-2995ab50c711",
     "showTitle": false,
     "tableResultSettingsMap": {},
     "title": ""
    }
   },
   "outputs": [],
   "source": [
    "import sys\n",
    "import os\n",
    "from datetime import datetime\n",
    "\n",
    "#print(sys.path)\n",
    "print(os.getcwd().rsplit('/', 1)[0] )\n",
    "sys.path.append(os.getcwd().rsplit('/', 1)[0] )\n",
    "#print(sys.path)\n"
   ]
  }
 ],
 "metadata": {
  "application/vnd.databricks.v1+notebook": {
   "computePreferences": null,
   "dashboards": [],
   "environmentMetadata": {
    "base_environment": "",
    "environment_version": "2"
   },
   "inputWidgetPreferences": null,
   "language": "python",
   "notebookMetadata": {
    "mostRecentlyExecutedCommandWithImplicitDF": {
     "commandId": 6211237182320420,
     "dataframes": [
      "_sqldf"
     ]
    },
    "pythonIndentUnit": 4
   },
   "notebookName": "generic-data-contract-checks",
   "widgets": {}
  },
  "language_info": {
   "name": "python"
  }
 },
 "nbformat": 4,
 "nbformat_minor": 0
}
